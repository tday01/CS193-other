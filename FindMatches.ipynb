{
 "cells": [
  {
   "cell_type": "code",
   "execution_count": 1,
   "metadata": {},
   "outputs": [],
   "source": [
    "import os.path\n",
    "import shutil"
   ]
  },
  {
   "cell_type": "code",
   "execution_count": 2,
   "metadata": {},
   "outputs": [],
   "source": [
    "orig_img = 'C:\\\\Users\\\\PC03\\\\Desktop\\\\original_lungImg\\\\normalized\\\\Data\\\\synced\\\\original_image'\n",
    "mask_img = 'C:\\\\Users\\\\PC03\\\\Desktop\\\\original_lungImg\\\\normalized\\\\Data\\\\synced\\\\labels_mask'"
   ]
  },
  {
   "cell_type": "code",
   "execution_count": 3,
   "metadata": {},
   "outputs": [
    {
     "name": "stdout",
     "output_type": "stream",
     "text": [
      "Number origs names: 5683\n",
      "Number masks names: 6974\n"
     ]
    }
   ],
   "source": [
    "os.listdir(orig_img)\n",
    "os.listdir(mask_img)\n",
    "\n",
    "orig_img_names = [f for f in os.listdir(orig_img) if os.path.isfile(os.path.join(orig_img , f))]\n",
    "mask_img_names = [f for f in os.listdir(mask_img) if os.path.isfile(os.path.join(mask_img , f))]\n",
    "\n",
    "print('Number origs names:', len(orig_img_names))\n",
    "print('Number masks names:', len(mask_img_names))"
   ]
  },
  {
   "cell_type": "code",
   "execution_count": 4,
   "metadata": {},
   "outputs": [
    {
     "name": "stdout",
     "output_type": "stream",
     "text": [
      "Number origs cleaned: 5683\n"
     ]
    }
   ],
   "source": [
    "orig_names_cleaned = []\n",
    "\n",
    "for name in orig_img_names:\n",
    "    orig_names_cleaned.append(name[:15] + name[-10:])\n",
    "    \n",
    "print('Number origs cleaned:', len(orig_names_cleaned))"
   ]
  },
  {
   "cell_type": "code",
   "execution_count": 5,
   "metadata": {},
   "outputs": [
    {
     "name": "stdout",
     "output_type": "stream",
     "text": [
      "Number masks cleaned: 6974\n"
     ]
    }
   ],
   "source": [
    "mask_names_cleaned = []\n",
    "\n",
    "for name in mask_img_names:\n",
    "    mask_names_cleaned.append(name[:15] + name[-10:])\n",
    "    \n",
    "print('Number masks cleaned:', len(mask_names_cleaned))"
   ]
  },
  {
   "cell_type": "code",
   "execution_count": 6,
   "metadata": {},
   "outputs": [
    {
     "name": "stdout",
     "output_type": "stream",
     "text": [
      "Number of matches found: 5681\n"
     ]
    }
   ],
   "source": [
    "matches = []\n",
    "\n",
    "matches = set(mask_names_cleaned) & set(orig_names_cleaned)\n",
    "\n",
    "print('Number of matches found:', len(matches))"
   ]
  },
  {
   "cell_type": "code",
   "execution_count": 7,
   "metadata": {},
   "outputs": [],
   "source": [
    "orig_img_new = 'C:\\\\Users\\\\PC03\\\\Desktop\\\\original_lungImg\\\\normalized\\\\Data\\\\synced\\\\new\\\\original_image'\n",
    "mask_img_new = 'C:\\\\Users\\\\PC03\\\\Desktop\\\\original_lungImg\\\\normalized\\\\Data\\\\synced\\\\new\\\\labels_mask'\n",
    "\n",
    "for name in matches:\n",
    "    \n",
    "    shutil.move(orig_img + '\\\\' + (name[:15] + 'image_' + name[-10:]), orig_img_new + '\\\\' + (name[:15] + 'image_' + name[-10:]))\n",
    "    \n",
    "    shutil.move(mask_img + '\\\\' + (name[:15] + 'surfaceMask_' + name[-10:]), mask_img_new + '\\\\' + (name[:15] + 'surfaceMask_' + name[-10:]))"
   ]
  }
 ],
 "metadata": {
  "kernelspec": {
   "display_name": "Python 3",
   "language": "python",
   "name": "python3"
  },
  "language_info": {
   "codemirror_mode": {
    "name": "ipython",
    "version": 3
   },
   "file_extension": ".py",
   "mimetype": "text/x-python",
   "name": "python",
   "nbconvert_exporter": "python",
   "pygments_lexer": "ipython3",
   "version": "3.7.6"
  }
 },
 "nbformat": 4,
 "nbformat_minor": 4
}
