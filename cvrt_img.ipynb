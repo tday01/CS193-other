{
 "cells": [
  {
   "cell_type": "code",
   "execution_count": 1,
   "metadata": {},
   "outputs": [],
   "source": [
    "from matplotlib.pyplot import imread, imshow, subplots, show\n",
    "import matplotlib.pyplot as plt\n",
    "%matplotlib inline\n",
    "from skimage import data, img_as_float\n",
    "from skimage import exposure\n",
    "import numpy as np\n",
    "import os.path\n",
    "import os\n"
   ]
  },
  {
   "cell_type": "code",
   "execution_count": null,
   "metadata": {},
   "outputs": [
    {
     "name": "stderr",
     "output_type": "stream",
     "text": [
      "C:\\ProgramData\\Anaconda3\\lib\\site-packages\\skimage\\util\\dtype.py:135: UserWarning: Possible precision loss when converting from float32 to uint16\n",
      "  .format(dtypeobj_in, dtypeobj_out))\n"
     ]
    }
   ],
   "source": [
    "path_input = os.getcwd() + '\\original_lungImg\\Data\\original_image'\n",
    "path_output = os.getcwd() + '\\original_lungImg\\converted\\data'\n",
    "\n",
    "# get all file names\n",
    "images_all = [f for f in os.listdir(path_input) if os.path.isfile(os.path.join(path_input , f))]\n",
    "\n",
    "for image_name in images_all:\n",
    "    # input image, original\n",
    "    image = imread(path_input + '\\\\' + image_name)\n",
    "    img_cvrtd = exposure.equalize_adapthist(image, clip_limit=0.03)\n",
    "    \n",
    "    plt.imshow(img_cvrtd)\n",
    "    #plt.show()\n",
    "    \n",
    "    # make new file of converted image\n",
    "    f = open(path_output + '\\\\' + image_name,\"w+\")\n",
    "    plt.savefig(path_output + '\\\\' + image_name[:-4])\n",
    "    "
   ]
  }
 ],
 "metadata": {
  "kernelspec": {
   "display_name": "Python 3",
   "language": "python",
   "name": "python3"
  },
  "language_info": {
   "codemirror_mode": {
    "name": "ipython",
    "version": 3
   },
   "file_extension": ".py",
   "mimetype": "text/x-python",
   "name": "python",
   "nbconvert_exporter": "python",
   "pygments_lexer": "ipython3",
   "version": "3.7.4"
  }
 },
 "nbformat": 4,
 "nbformat_minor": 4
}
